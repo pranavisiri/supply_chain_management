{
 "cells": [
  {
   "cell_type": "code",
   "execution_count": 1,
   "metadata": {},
   "outputs": [
    {
     "name": "stdout",
     "output_type": "stream",
     "text": [
      "Requirement already satisfied: pgmpy in c:\\users\\prana\\downloads\\supply\\supply\\venv\\lib\\site-packages (0.1.26)\n",
      "Requirement already satisfied: networkx in c:\\users\\prana\\downloads\\supply\\supply\\venv\\lib\\site-packages (from pgmpy) (3.3)\n",
      "Requirement already satisfied: numpy in c:\\users\\prana\\downloads\\supply\\supply\\venv\\lib\\site-packages (from pgmpy) (1.26.4)\n",
      "Requirement already satisfied: scipy in c:\\users\\prana\\downloads\\supply\\supply\\venv\\lib\\site-packages (from pgmpy) (1.14.1)\n",
      "Requirement already satisfied: scikit-learn in c:\\users\\prana\\downloads\\supply\\supply\\venv\\lib\\site-packages (from pgmpy) (1.5.2)\n",
      "Requirement already satisfied: pandas in c:\\users\\prana\\downloads\\supply\\supply\\venv\\lib\\site-packages (from pgmpy) (2.2.3)\n",
      "Requirement already satisfied: pyparsing in c:\\users\\prana\\downloads\\supply\\supply\\venv\\lib\\site-packages (from pgmpy) (3.1.4)\n",
      "Requirement already satisfied: torch in c:\\users\\prana\\downloads\\supply\\supply\\venv\\lib\\site-packages (from pgmpy) (2.4.1)\n",
      "Requirement already satisfied: statsmodels in c:\\users\\prana\\downloads\\supply\\supply\\venv\\lib\\site-packages (from pgmpy) (0.14.3)\n",
      "Requirement already satisfied: tqdm in c:\\users\\prana\\downloads\\supply\\supply\\venv\\lib\\site-packages (from pgmpy) (4.66.5)\n",
      "Requirement already satisfied: joblib in c:\\users\\prana\\downloads\\supply\\supply\\venv\\lib\\site-packages (from pgmpy) (1.4.2)\n",
      "Requirement already satisfied: opt-einsum in c:\\users\\prana\\downloads\\supply\\supply\\venv\\lib\\site-packages (from pgmpy) (3.3.0)\n",
      "Requirement already satisfied: xgboost in c:\\users\\prana\\downloads\\supply\\supply\\venv\\lib\\site-packages (from pgmpy) (2.1.1)\n",
      "Requirement already satisfied: google-generativeai in c:\\users\\prana\\downloads\\supply\\supply\\venv\\lib\\site-packages (from pgmpy) (0.8.1)\n",
      "Requirement already satisfied: google-ai-generativelanguage==0.6.9 in c:\\users\\prana\\downloads\\supply\\supply\\venv\\lib\\site-packages (from google-generativeai->pgmpy) (0.6.9)\n",
      "Requirement already satisfied: google-api-core in c:\\users\\prana\\downloads\\supply\\supply\\venv\\lib\\site-packages (from google-generativeai->pgmpy) (2.20.0)\n",
      "Requirement already satisfied: google-api-python-client in c:\\users\\prana\\downloads\\supply\\supply\\venv\\lib\\site-packages (from google-generativeai->pgmpy) (2.146.0)\n",
      "Requirement already satisfied: google-auth>=2.15.0 in c:\\users\\prana\\downloads\\supply\\supply\\venv\\lib\\site-packages (from google-generativeai->pgmpy) (2.35.0)\n",
      "Requirement already satisfied: protobuf in c:\\users\\prana\\downloads\\supply\\supply\\venv\\lib\\site-packages (from google-generativeai->pgmpy) (4.25.5)\n",
      "Requirement already satisfied: pydantic in c:\\users\\prana\\downloads\\supply\\supply\\venv\\lib\\site-packages (from google-generativeai->pgmpy) (2.9.2)\n",
      "Requirement already satisfied: typing-extensions in c:\\users\\prana\\downloads\\supply\\supply\\venv\\lib\\site-packages (from google-generativeai->pgmpy) (4.12.2)\n",
      "Requirement already satisfied: proto-plus<2.0.0dev,>=1.22.3 in c:\\users\\prana\\downloads\\supply\\supply\\venv\\lib\\site-packages (from google-ai-generativelanguage==0.6.9->google-generativeai->pgmpy) (1.24.0)\n",
      "Requirement already satisfied: python-dateutil>=2.8.2 in c:\\users\\prana\\downloads\\supply\\supply\\venv\\lib\\site-packages (from pandas->pgmpy) (2.9.0.post0)\n",
      "Requirement already satisfied: pytz>=2020.1 in c:\\users\\prana\\downloads\\supply\\supply\\venv\\lib\\site-packages (from pandas->pgmpy) (2024.2)\n",
      "Requirement already satisfied: tzdata>=2022.7 in c:\\users\\prana\\downloads\\supply\\supply\\venv\\lib\\site-packages (from pandas->pgmpy) (2024.1)\n",
      "Requirement already satisfied: threadpoolctl>=3.1.0 in c:\\users\\prana\\downloads\\supply\\supply\\venv\\lib\\site-packages (from scikit-learn->pgmpy) (3.5.0)\n",
      "Requirement already satisfied: patsy>=0.5.6 in c:\\users\\prana\\downloads\\supply\\supply\\venv\\lib\\site-packages (from statsmodels->pgmpy) (0.5.6)\n",
      "Requirement already satisfied: packaging>=21.3 in c:\\users\\prana\\downloads\\supply\\supply\\venv\\lib\\site-packages (from statsmodels->pgmpy) (24.1)\n",
      "Requirement already satisfied: filelock in c:\\users\\prana\\downloads\\supply\\supply\\venv\\lib\\site-packages (from torch->pgmpy) (3.16.1)\n",
      "Requirement already satisfied: sympy in c:\\users\\prana\\downloads\\supply\\supply\\venv\\lib\\site-packages (from torch->pgmpy) (1.13.3)\n",
      "Requirement already satisfied: jinja2 in c:\\users\\prana\\downloads\\supply\\supply\\venv\\lib\\site-packages (from torch->pgmpy) (3.1.4)\n",
      "Requirement already satisfied: fsspec in c:\\users\\prana\\downloads\\supply\\supply\\venv\\lib\\site-packages (from torch->pgmpy) (2024.9.0)\n",
      "Requirement already satisfied: colorama in c:\\users\\prana\\downloads\\supply\\supply\\venv\\lib\\site-packages (from tqdm->pgmpy) (0.4.6)\n",
      "Requirement already satisfied: googleapis-common-protos<2.0.dev0,>=1.56.2 in c:\\users\\prana\\downloads\\supply\\supply\\venv\\lib\\site-packages (from google-api-core->google-generativeai->pgmpy) (1.65.0)\n",
      "Requirement already satisfied: requests<3.0.0.dev0,>=2.18.0 in c:\\users\\prana\\downloads\\supply\\supply\\venv\\lib\\site-packages (from google-api-core->google-generativeai->pgmpy) (2.32.3)\n",
      "Requirement already satisfied: cachetools<6.0,>=2.0.0 in c:\\users\\prana\\downloads\\supply\\supply\\venv\\lib\\site-packages (from google-auth>=2.15.0->google-generativeai->pgmpy) (5.5.0)\n",
      "Requirement already satisfied: pyasn1-modules>=0.2.1 in c:\\users\\prana\\downloads\\supply\\supply\\venv\\lib\\site-packages (from google-auth>=2.15.0->google-generativeai->pgmpy) (0.4.1)\n",
      "Requirement already satisfied: rsa<5,>=3.1.4 in c:\\users\\prana\\downloads\\supply\\supply\\venv\\lib\\site-packages (from google-auth>=2.15.0->google-generativeai->pgmpy) (4.9)\n",
      "Requirement already satisfied: six in c:\\users\\prana\\downloads\\supply\\supply\\venv\\lib\\site-packages (from patsy>=0.5.6->statsmodels->pgmpy) (1.16.0)\n",
      "Requirement already satisfied: httplib2<1.dev0,>=0.19.0 in c:\\users\\prana\\downloads\\supply\\supply\\venv\\lib\\site-packages (from google-api-python-client->google-generativeai->pgmpy) (0.22.0)\n",
      "Requirement already satisfied: google-auth-httplib2<1.0.0,>=0.2.0 in c:\\users\\prana\\downloads\\supply\\supply\\venv\\lib\\site-packages (from google-api-python-client->google-generativeai->pgmpy) (0.2.0)\n",
      "Requirement already satisfied: uritemplate<5,>=3.0.1 in c:\\users\\prana\\downloads\\supply\\supply\\venv\\lib\\site-packages (from google-api-python-client->google-generativeai->pgmpy) (4.1.1)\n",
      "Requirement already satisfied: MarkupSafe>=2.0 in c:\\users\\prana\\downloads\\supply\\supply\\venv\\lib\\site-packages (from jinja2->torch->pgmpy) (2.1.5)\n",
      "Requirement already satisfied: annotated-types>=0.6.0 in c:\\users\\prana\\downloads\\supply\\supply\\venv\\lib\\site-packages (from pydantic->google-generativeai->pgmpy) (0.7.0)\n",
      "Requirement already satisfied: pydantic-core==2.23.4 in c:\\users\\prana\\downloads\\supply\\supply\\venv\\lib\\site-packages (from pydantic->google-generativeai->pgmpy) (2.23.4)\n",
      "Requirement already satisfied: mpmath<1.4,>=1.1.0 in c:\\users\\prana\\downloads\\supply\\supply\\venv\\lib\\site-packages (from sympy->torch->pgmpy) (1.3.0)\n",
      "Requirement already satisfied: grpcio<2.0dev,>=1.33.2 in c:\\users\\prana\\downloads\\supply\\supply\\venv\\lib\\site-packages (from google-api-core[grpc]!=2.0.*,!=2.1.*,!=2.10.*,!=2.2.*,!=2.3.*,!=2.4.*,!=2.5.*,!=2.6.*,!=2.7.*,!=2.8.*,!=2.9.*,<3.0.0dev,>=1.34.1->google-ai-generativelanguage==0.6.9->google-generativeai->pgmpy) (1.66.1)\n",
      "Requirement already satisfied: grpcio-status<2.0.dev0,>=1.33.2 in c:\\users\\prana\\downloads\\supply\\supply\\venv\\lib\\site-packages (from google-api-core[grpc]!=2.0.*,!=2.1.*,!=2.10.*,!=2.2.*,!=2.3.*,!=2.4.*,!=2.5.*,!=2.6.*,!=2.7.*,!=2.8.*,!=2.9.*,<3.0.0dev,>=1.34.1->google-ai-generativelanguage==0.6.9->google-generativeai->pgmpy) (1.62.3)\n",
      "Requirement already satisfied: pyasn1<0.7.0,>=0.4.6 in c:\\users\\prana\\downloads\\supply\\supply\\venv\\lib\\site-packages (from pyasn1-modules>=0.2.1->google-auth>=2.15.0->google-generativeai->pgmpy) (0.6.1)\n",
      "Requirement already satisfied: charset-normalizer<4,>=2 in c:\\users\\prana\\downloads\\supply\\supply\\venv\\lib\\site-packages (from requests<3.0.0.dev0,>=2.18.0->google-api-core->google-generativeai->pgmpy) (3.3.2)\n",
      "Requirement already satisfied: idna<4,>=2.5 in c:\\users\\prana\\downloads\\supply\\supply\\venv\\lib\\site-packages (from requests<3.0.0.dev0,>=2.18.0->google-api-core->google-generativeai->pgmpy) (3.10)\n",
      "Requirement already satisfied: urllib3<3,>=1.21.1 in c:\\users\\prana\\downloads\\supply\\supply\\venv\\lib\\site-packages (from requests<3.0.0.dev0,>=2.18.0->google-api-core->google-generativeai->pgmpy) (2.2.3)\n",
      "Requirement already satisfied: certifi>=2017.4.17 in c:\\users\\prana\\downloads\\supply\\supply\\venv\\lib\\site-packages (from requests<3.0.0.dev0,>=2.18.0->google-api-core->google-generativeai->pgmpy) (2024.8.30)\n",
      "Note: you may need to restart the kernel to use updated packages.\n"
     ]
    }
   ],
   "source": [
    "pip install pgmpy\n"
   ]
  },
  {
   "cell_type": "code",
   "execution_count": 4,
   "metadata": {},
   "outputs": [],
   "source": [
    "# Required Libraries\n",
    "import pandas as pd\n",
    "from sklearn.model_selection import train_test_split\n",
    "from sklearn.preprocessing import LabelEncoder, StandardScaler\n",
    "from sklearn.impute import SimpleImputer\n",
    "from xgboost import XGBRegressor  # For GBM\n",
    "import numpy as np\n",
    "import tensorflow as tf  # For LSTM\n",
    "from pgmpy.models import BayesianModel\n",
    "from pgmpy.inference import VariableElimination\n",
    "\n",
    "# Load Dataset\n",
    "df = pd.read_csv(r'C:\\Users\\prana\\Downloads\\supply\\supply\\electronics_supply_chain_data_500.csv')\n",
    "\n",
    "# Convert Date columns to datetime\n",
    "df['date'] = pd.to_datetime(df['date'])\n",
    "df['order_date'] = pd.to_datetime(df['order_date'])\n",
    "df['availability_date'] = pd.to_datetime(df['availability_date'])\n",
    "\n",
    "# Handle Missing Data (if any)\n",
    "imputer = SimpleImputer(strategy='mean')\n",
    "df['supplier_reliability'] = imputer.fit_transform(df[['supplier_reliability']])\n",
    "\n",
    "# Encoding Categorical Columns\n",
    "label_encoder = LabelEncoder()\n",
    "df['product_category'] = label_encoder.fit_transform(df['product_category'])\n",
    "df['supplier_name'] = label_encoder.fit_transform(df['supplier_name'])\n",
    "df['supplier_location'] = label_encoder.fit_transform(df['supplier_location'])\n",
    "\n",
    "# Feature Selection\n",
    "X = df[['product_id', 'product_category', 'supplier_id', 'supplier_reliability', 'quantity_ordered']]\n",
    "y = df['quantity_available']\n",
    "\n",
    "# Train-Test Split\n",
    "X_train, X_test, y_train, y_test = train_test_split(X, y, test_size=0.2, random_state=42)\n",
    "\n",
    "# Scaling Features for GBM\n",
    "scaler = StandardScaler()\n",
    "X_train_scaled = scaler.fit_transform(X_train)\n",
    "X_test_scaled = scaler.transform(X_test)\n"
   ]
  },
  {
   "cell_type": "code",
   "execution_count": 5,
   "metadata": {},
   "outputs": [
    {
     "ename": "NameError",
     "evalue": "name 'mean_squared_error' is not defined",
     "output_type": "error",
     "traceback": [
      "\u001b[1;31m---------------------------------------------------------------------------\u001b[0m",
      "\u001b[1;31mNameError\u001b[0m                                 Traceback (most recent call last)",
      "Cell \u001b[1;32mIn[5], line 9\u001b[0m\n\u001b[0;32m      6\u001b[0m gbm_predictions \u001b[38;5;241m=\u001b[39m gbm_model\u001b[38;5;241m.\u001b[39mpredict(X_test_scaled)\n\u001b[0;32m      8\u001b[0m \u001b[38;5;66;03m# Calculate MSE\u001b[39;00m\n\u001b[1;32m----> 9\u001b[0m gbm_mse \u001b[38;5;241m=\u001b[39m \u001b[43mmean_squared_error\u001b[49m(y_test, gbm_predictions)\n\u001b[0;32m     11\u001b[0m \u001b[38;5;28mprint\u001b[39m(\u001b[38;5;124mf\u001b[39m\u001b[38;5;124m'\u001b[39m\u001b[38;5;124mGBM Mean Squared Error: \u001b[39m\u001b[38;5;132;01m{\u001b[39;00mgbm_mse\u001b[38;5;132;01m}\u001b[39;00m\u001b[38;5;124m'\u001b[39m)\n",
      "\u001b[1;31mNameError\u001b[0m: name 'mean_squared_error' is not defined"
     ]
    }
   ],
   "source": [
    "\n",
    "# GBM Model\n",
    "gbm_model = XGBRegressor(objective='reg:squarederror', random_state=42)\n",
    "gbm_model.fit(X_train_scaled, y_train)\n",
    "\n",
    "# Prediction\n",
    "gbm_predictions = gbm_model.predict(X_test_scaled)\n",
    "\n",
    "# Calculate MSE\n",
    "gbm_mse = mean_squared_error(y_test, gbm_predictions)\n",
    "\n",
    "print(f'GBM Mean Squared Error: {gbm_mse}')"
   ]
  },
  {
   "cell_type": "code",
   "execution_count": 2,
   "metadata": {},
   "outputs": [
    {
     "name": "stdout",
     "output_type": "stream",
     "text": [
      "Random Forest MSE: 170760.7483557692\n"
     ]
    }
   ],
   "source": [
    "from sklearn.ensemble import RandomForestRegressor\n",
    "from sklearn.metrics import mean_squared_error\n",
    "\n",
    "# Initialize the model\n",
    "rf_model = RandomForestRegressor(n_estimators=100, random_state=42)\n",
    "\n",
    "# Train the model\n",
    "rf_model.fit(X_train, y_train)\n",
    "\n",
    "# Predict on test set\n",
    "y_pred_rf = rf_model.predict(X_test)\n",
    "\n",
    "# Evaluate model performance\n",
    "mse_rf = mean_squared_error(y_test, y_pred_rf)\n",
    "print(f'Random Forest MSE: {mse_rf}')\n"
   ]
  },
  {
   "cell_type": "code",
   "execution_count": 24,
   "metadata": {},
   "outputs": [
    {
     "name": "stdout",
     "output_type": "stream",
     "text": [
      "\u001b[1m2/2\u001b[0m \u001b[32m━━━━━━━━━━━━━━━━━━━━\u001b[0m\u001b[37m\u001b[0m \u001b[1m0s\u001b[0m 160ms/step\n",
      "Mean Squared Error: 233475.4776010486\n"
     ]
    }
   ],
   "source": [
    "from sklearn.metrics import mean_squared_error\n",
    "\n",
    "# Reshape for LSTM\n",
    "X_train_lstm = X_train.values.reshape((X_train.shape[0], 1, X_train.shape[1]))\n",
    "X_test_lstm = X_test.values.reshape((X_test.shape[0], 1, X_test.shape[1]))\n",
    "\n",
    "# LSTM Model\n",
    "lstm_model = tf.keras.Sequential()\n",
    "lstm_model.add(tf.keras.layers.LSTM(50, activation='relu', input_shape=(X_train_lstm.shape[1], X_train_lstm.shape[2])))\n",
    "lstm_model.add(tf.keras.layers.Dense(1))\n",
    "\n",
    "lstm_model.compile(optimizer='adam', loss='mse')\n",
    "lstm_model.fit(X_train_lstm, y_train, epochs=50, verbose=0)\n",
    "\n",
    "# Prediction\n",
    "lstm_predictions = lstm_model.predict(X_test_lstm)\n",
    "\n",
    "# Calculate MSE\n",
    "mse = mean_squared_error(y_test, lstm_predictions)\n",
    "\n",
    "print(f'Mean Squared Error: {mse}')\n"
   ]
  },
  {
   "cell_type": "code",
   "execution_count": 3,
   "metadata": {},
   "outputs": [
    {
     "name": "stdout",
     "output_type": "stream",
     "text": [
      "Decision Tree MSE: 403323.25\n"
     ]
    }
   ],
   "source": [
    "from sklearn.tree import DecisionTreeRegressor\n",
    "\n",
    "# Initialize the model\n",
    "dt_model = DecisionTreeRegressor(random_state=42)\n",
    "\n",
    "# Train the model\n",
    "dt_model.fit(X_train, y_train)\n",
    "\n",
    "# Predict on test set\n",
    "y_pred_dt = dt_model.predict(X_test)\n",
    "\n",
    "# Evaluate model performance\n",
    "mse_dt = mean_squared_error(y_test, y_pred_dt)\n",
    "print(f'Decision Tree MSE: {mse_dt}')\n"
   ]
  },
  {
   "cell_type": "code",
   "execution_count": 4,
   "metadata": {},
   "outputs": [
    {
     "name": "stdout",
     "output_type": "stream",
     "text": [
      "Linear Regression MSE: 142586.76020265295\n"
     ]
    }
   ],
   "source": [
    "from sklearn.linear_model import LinearRegression\n",
    "\n",
    "# Initialize the model\n",
    "lr_model = LinearRegression()\n",
    "\n",
    "# Train the model\n",
    "lr_model.fit(X_train, y_train)\n",
    "\n",
    "# Predict on test set\n",
    "y_pred_lr = lr_model.predict(X_test)\n",
    "\n",
    "# Evaluate model performance\n",
    "mse_lr = mean_squared_error(y_test, y_pred_lr)\n",
    "print(f'Linear Regression MSE: {mse_lr}')\n"
   ]
  },
  {
   "cell_type": "code",
   "execution_count": 28,
   "metadata": {},
   "outputs": [
    {
     "name": "stderr",
     "output_type": "stream",
     "text": [
      "c:\\Users\\nikhi\\AppData\\Local\\Programs\\Python\\Python312\\Lib\\site-packages\\keras\\src\\layers\\rnn\\rnn.py:204: UserWarning: Do not pass an `input_shape`/`input_dim` argument to a layer. When using Sequential models, prefer using an `Input(shape)` object as the first layer in the model instead.\n",
      "  super().__init__(**kwargs)\n"
     ]
    },
    {
     "name": "stdout",
     "output_type": "stream",
     "text": [
      "WARNING:tensorflow:5 out of the last 5 calls to <function TensorFlowTrainer.make_predict_function.<locals>.one_step_on_data_distributed at 0x0000025C91263EC0> triggered tf.function retracing. Tracing is expensive and the excessive number of tracings could be due to (1) creating @tf.function repeatedly in a loop, (2) passing tensors with different shapes, (3) passing Python objects instead of tensors. For (1), please define your @tf.function outside of the loop. For (2), @tf.function has reduce_retracing=True option that can avoid unnecessary retracing. For (3), please refer to https://www.tensorflow.org/guide/function#controlling_retracing and https://www.tensorflow.org/api_docs/python/tf/function for  more details.\n"
     ]
    },
    {
     "name": "stderr",
     "output_type": "stream",
     "text": [
      "WARNING:tensorflow:5 out of the last 5 calls to <function TensorFlowTrainer.make_predict_function.<locals>.one_step_on_data_distributed at 0x0000025C91263EC0> triggered tf.function retracing. Tracing is expensive and the excessive number of tracings could be due to (1) creating @tf.function repeatedly in a loop, (2) passing tensors with different shapes, (3) passing Python objects instead of tensors. For (1), please define your @tf.function outside of the loop. For (2), @tf.function has reduce_retracing=True option that can avoid unnecessary retracing. For (3), please refer to https://www.tensorflow.org/guide/function#controlling_retracing and https://www.tensorflow.org/api_docs/python/tf/function for  more details.\n"
     ]
    },
    {
     "name": "stdout",
     "output_type": "stream",
     "text": [
      "\u001b[1m1/2\u001b[0m \u001b[32m━━━━━━━━━━\u001b[0m\u001b[37m━━━━━━━━━━\u001b[0m \u001b[1m0s\u001b[0m 220ms/stepWARNING:tensorflow:6 out of the last 6 calls to <function TensorFlowTrainer.make_predict_function.<locals>.one_step_on_data_distributed at 0x0000025C91263EC0> triggered tf.function retracing. Tracing is expensive and the excessive number of tracings could be due to (1) creating @tf.function repeatedly in a loop, (2) passing tensors with different shapes, (3) passing Python objects instead of tensors. For (1), please define your @tf.function outside of the loop. For (2), @tf.function has reduce_retracing=True option that can avoid unnecessary retracing. For (3), please refer to https://www.tensorflow.org/guide/function#controlling_retracing and https://www.tensorflow.org/api_docs/python/tf/function for  more details.\n"
     ]
    },
    {
     "name": "stderr",
     "output_type": "stream",
     "text": [
      "WARNING:tensorflow:6 out of the last 6 calls to <function TensorFlowTrainer.make_predict_function.<locals>.one_step_on_data_distributed at 0x0000025C91263EC0> triggered tf.function retracing. Tracing is expensive and the excessive number of tracings could be due to (1) creating @tf.function repeatedly in a loop, (2) passing tensors with different shapes, (3) passing Python objects instead of tensors. For (1), please define your @tf.function outside of the loop. For (2), @tf.function has reduce_retracing=True option that can avoid unnecessary retracing. For (3), please refer to https://www.tensorflow.org/guide/function#controlling_retracing and https://www.tensorflow.org/api_docs/python/tf/function for  more details.\n"
     ]
    },
    {
     "name": "stdout",
     "output_type": "stream",
     "text": [
      "\u001b[1m2/2\u001b[0m \u001b[32m━━━━━━━━━━━━━━━━━━━━\u001b[0m\u001b[37m\u001b[0m \u001b[1m0s\u001b[0m 207ms/step\n",
      "Model Evaluation:\n",
      "Random Forest MSE: 164992.39549807692\n",
      "Decision Tree MSE: 399448.57692307694\n",
      "Linear Regression MSE: 142586.7602026525\n",
      "GBM MSE: 237884.12138086915\n",
      "LSTM MSE: 516368.7954712872\n",
      "Best model based on MSE: Linear Regression with MSE: 142586.7602026525\n"
     ]
    }
   ],
   "source": [
    "\n",
    "# Print Results\n",
    "print(f'Model Evaluation:')\n",
    "print(f'Random Forest MSE: {mse_rf}')\n",
    "print(f'Decision Tree MSE: {mse_dt}')\n",
    "print(f'Linear Regression MSE: {mse_lr}')\n",
    "print(f'GBM MSE: {mse_gbm}')\n",
    "print(f'LSTM MSE: {mse_lstm}')\n",
    "\n",
    "# Compare results\n",
    "mse_results = {\n",
    "    'Random Forest': mse_rf,\n",
    "    'Decision Tree': mse_dt,\n",
    "    'Linear Regression': mse_lr,\n",
    "    'GBM': mse_gbm,\n",
    "    'LSTM': mse_lstm\n",
    "}\n",
    "\n",
    "# Get the best model based on lowest MSE\n",
    "best_model = min(mse_results, key=mse_results.get)\n",
    "print(f'Best model based on MSE: {best_model} with MSE: {mse_results[best_model]}')\n"
   ]
  },
  {
   "cell_type": "code",
   "execution_count": 6,
   "metadata": {},
   "outputs": [
    {
     "data": {
      "image/png": "[encoded data removed]",
      "text/plain": [
       "<Figure size 800x600 with 1 Axes>"
      ]
     },
     "metadata": {},
     "output_type": "display_data"
    }
   ],
   "source": [
    "# Feature importance from Random Forest\n",
    "import matplotlib.pyplot as plt\n",
    "import numpy as np\n",
    "\n",
    "# Extract feature importance\n",
    "importances = rf_model.feature_importances_\n",
    "feature_names = ['product_id', 'product_category', 'supplier_id', 'supplier_reliability', 'quantity_ordered']\n",
    "\n",
    "# Plot feature importance\n",
    "indices = np.argsort(importances)[::-1]\n",
    "plt.figure(figsize=(8, 6))\n",
    "plt.title(\"Feature Importance - Random Forest\")\n",
    "plt.bar(range(X.shape[1]), importances[indices], align=\"center\")\n",
    "plt.xticks(range(X.shape[1]), [feature_names[i] for i in indices], rotation=45)\n",
    "plt.show()\n"
   ]
  },
  {
   "cell_type": "code",
   "execution_count": 7,
   "metadata": {},
   "outputs": [
    {
     "name": "stdout",
     "output_type": "stream",
     "text": [
      "Fitting 5 folds for each of 27 candidates, totalling 135 fits\n",
      "Best parameters from GridSearch: {'max_depth': 10, 'min_samples_split': 10, 'n_estimators': 300}\n",
      "Best Random Forest MSE after tuning: 158598.39161617498\n"
     ]
    }
   ],
   "source": [
    "from sklearn.linear_model import LinearRegression\n",
    "from sklearn.model_selection import GridSearchCV\n",
    "from sklearn.metrics import mean_squared_error\n",
    "import numpy as np\n",
    "\n",
    "# Initialize the Linear Regression model\n",
    "lr_model = LinearRegression()\n",
    "\n",
    "# Define parameter grid for Linear Regression (though it has fewer hyperparameters)\n",
    "param_grid = {\n",
    "    'fit_intercept': [True, False],\n",
    "    'normalize': [True, False]  # Note: normalize is deprecated in newer versions\n",
    "}\n",
    "\n",
    "# Initialize GridSearchCV\n",
    "grid_search = GridSearchCV(estimator=lr_model, param_grid=param_grid, cv=5, scoring='neg_mean_squared_error', verbose=2, n_jobs=-1)\n",
    "\n",
    "# Fit GridSearch to the data\n",
    "grid_search.fit(X_train, y_train)\n",
    "\n",
    "# Best parameters from grid search\n",
    "print(f\"Best parameters from GridSearch: {grid_search.best_params_}\")\n",
    "\n",
    "# Use the best estimator to predict\n",
    "best_lr_model = grid_search.best_estimator_\n",
    "y_pred_best_lr = best_lr_model.predict(X_test)\n",
    "mse_best_lr = mean_squared_error(y_test, y_pred_best_lr)\n",
    "print(f'Best Linear Regression MSE after tuning: {mse_best_lr}')\n"
   ]
  },
  {
   "cell_type": "code",
   "execution_count": 8,
   "metadata": {},
   "outputs": [
    {
     "name": "stdout",
     "output_type": "stream",
     "text": [
      "Best Random Forest model saved.\n"
     ]
    }
   ],
   "source": [
    "import joblib\n",
    "\n",
    "# Save the best model (Random Forest example)\n",
    "joblib.dump(best_rf_model, 'best_rf_model.pkl')\n",
    "print(\"Best Random Forest model saved.\")\n"
   ]
  },
  {
   "cell_type": "code",
   "execution_count": 9,
   "metadata": {},
   "outputs": [
    {
     "name": "stdout",
     "output_type": "stream",
     "text": [
      "MSE of loaded model: 158598.39161617498\n"
     ]
    }
   ],
   "source": [
    "# Load the saved model\n",
    "loaded_model = joblib.load('best_rf_model.pkl')\n",
    "\n",
    "# Predict using the loaded model\n",
    "y_pred_loaded = loaded_model.predict(X_test)\n",
    "mse_loaded = mean_squared_error(y_test, y_pred_loaded)\n",
    "print(f'MSE of loaded model: {mse_loaded}')\n"
   ]
  },
  {
   "cell_type": "code",
   "execution_count": 10,
   "metadata": {},
   "outputs": [
    {
     "data": {
      "image/png": "[encoded data removed]",
      "text/plain": [
       "<Figure size 800x600 with 1 Axes>"
      ]
     },
     "metadata": {},
     "output_type": "display_data"
    }
   ],
   "source": [
    "# Plotting predicted vs actual values\n",
    "plt.figure(figsize=(8, 6))\n",
    "plt.scatter(y_test, y_pred_best_rf, color='blue', label='Predictions')\n",
    "plt.plot([min(y_test), max(y_test)], [min(y_test), max(y_test)], color='red', label='Actual')\n",
    "plt.xlabel('Actual Values')\n",
    "plt.ylabel('Predicted Values')\n",
    "plt.title('Predicted vs Actual - Best Model')\n",
    "plt.legend()\n",
    "plt.show()\n"
   ]
  },
  {
   "cell_type": "code",
   "execution_count": 2,
   "metadata": {},
   "outputs": [],
   "source": [
    "import pickle\n",
    "from sklearn.ensemble import RandomForestRegressor\n",
    "\n",
    "# Assuming you have a trained model named 'model'\n",
    "model = RandomForestRegressor()  # Replace with your actual model\n",
    "# After training your model, save it like this\n",
    "with open('A:/supply/best_rf_model.pkl', 'wb') as file:\n",
    "    pickle.dump(model, file)\n"
   ]
  },
  {
   "cell_type": "code",
   "execution_count": 3,
   "metadata": {},
   "outputs": [],
   "source": [
    "import pickle\n",
    "\n",
    "try:\n",
    "    with open('A:/supply/best_rf_model.pkl', 'rb') as file:\n",
    "        model = pickle.load(file)\n",
    "except Exception as e:\n",
    "    print(f\"Error loading model: {e}\")\n"
   ]
  },
  {
   "cell_type": "code",
   "execution_count": 6,
   "metadata": {},
   "outputs": [
    {
     "name": "stderr",
     "output_type": "stream",
     "text": [
      "C:\\Users\\nikhi\\AppData\\Local\\Temp\\ipykernel_9616\\751770572.py:14: SettingWithCopyWarning: \n",
      "A value is trying to be set on a copy of a slice from a DataFrame.\n",
      "Try using .loc[row_indexer,col_indexer] = value instead\n",
      "\n",
      "See the caveats in the documentation: https://pandas.pydata.org/pandas-docs/stable/user_guide/indexing.html#returning-a-view-versus-a-copy\n",
      "  X['order_date'] = (df['order_date'] - df['order_date'].min()).dt.days  # Number of days since the first order date\n"
     ]
    },
    {
     "name": "stdout",
     "output_type": "stream",
     "text": [
      "Model trained and saved successfully.\n"
     ]
    }
   ],
   "source": [
    "import pandas as pd\n",
    "from sklearn.ensemble import RandomForestRegressor\n",
    "import pickle\n",
    "\n",
    "# Load your dataset\n",
    "df = pd.read_csv('A:/supply/electronics_supply_chain_data_500.csv')\n",
    "\n",
    "# Prepare your features and target variable\n",
    "# Make sure to adjust these columns according to your dataset\n",
    "X = df[['product_category', 'supplier_reliability', 'demand_forecast', 'quantity_ordered', 'order_date']]\n",
    "\n",
    "# Convert 'order_date' to datetime and then to a numerical format\n",
    "df['order_date'] = pd.to_datetime(df['order_date'])\n",
    "X['order_date'] = (df['order_date'] - df['order_date'].min()).dt.days  # Number of days since the first order date\n",
    "\n",
    "# Convert the target variable 'availability_date' to datetime and then to a numeric format\n",
    "df['availability_date'] = pd.to_datetime(df['availability_date'])\n",
    "y = (df['availability_date'] - df['availability_date'].min()).dt.days  # Number of days since the first availability date\n",
    "\n",
    "# Handle categorical features\n",
    "X = pd.get_dummies(X)\n",
    "\n",
    "# Initialize and fit the model\n",
    "model = RandomForestRegressor()\n",
    "model.fit(X, y)\n",
    "\n",
    "# Save the model\n",
    "with open('A:/supply/best_rf_model.pkl', 'wb') as file:\n",
    "    pickle.dump(model, file)\n",
    "\n",
    "print(\"Model trained and saved successfully.\")\n"
   ]
  }
 ],
 "metadata": {
  "kernelspec": {
   "display_name": "Python 3",
   "language": "python",
   "name": "python3"
  },
  "language_info": {
   "codemirror_mode": {
    "name": "ipython",
    "version": 3
   },
   "file_extension": ".py",
   "mimetype": "text/x-python",
   "name": "python",
   "nbconvert_exporter": "python",
   "pygments_lexer": "ipython3",
   "version": "3.10.2"
  }
 },
 "nbformat": 4,
 "nbformat_minor": 2
}
